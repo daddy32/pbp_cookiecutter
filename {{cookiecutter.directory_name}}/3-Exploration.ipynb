{
 "cells": [
  {
   "cell_type": "markdown",
   "metadata": {},
   "source": [
    "# {{cookiecutter.project_name}}\n",
    "\n",
    "{{cookiecutter.description}}\n",
    "\n",
    "This notebook contains basic statistical analysis and visualization of the data.\n",
    "\n",
    "## Data Sources\n",
    "- summary : Processed file from notebook 2-Feature_engineering\n",
    "\n",
    "## Changes\n",
    "- {% now 'utc', '%Y-%m-%d' %} : Started project"
   ]
  },
  {
   "cell_type": "code",
   "execution_count": null,
   "metadata": {},
   "outputs": [],
   "source": [
    "from imports import *"
   ]
  },
  {
   "cell_type": "code",
   "execution_count": null,
   "metadata": {},
   "outputs": [],
   "source": [
    "%matplotlib inline"
   ]
  },
  {
   "cell_type": "markdown",
   "metadata": {},
   "source": [
    "### File Locations"
   ]
  },
  {
   "cell_type": "code",
   "execution_count": null,
   "metadata": {},
   "outputs": [],
   "source": [
    "# File Locations\n",
    "today = datetime.today()\n",
    "\n",
    "INPUT_DIR = Path.cwd() / 'data'/ '01-input'\n",
    "PROCESSED_DIR = Path.cwd() / 'data'/ '02-processed'\n",
    "REPORT_DIR = Path.cwd() / 'reports'\n",
    "\n",
    "INPUT_FILE = PROCESSED_DIR / f'enriched_{today:%Y-%m-%d}.feather'\n",
    "REPORT_FILE = REPORT_DIR / f'Excel_Report_{today:%Y-%m-%d}.xlsx'"
   ]
  },
  {
   "cell_type": "code",
   "execution_count": null,
   "metadata": {},
   "outputs": [],
   "source": [
    "%%time\n",
    "global df # Workaround against %%time bug. See: https://stackoverflow.com/questions/55341134/variable-scope-is-changed-in-consecutive-cells-using-time-in-jupyter-notebook\n",
    "\n",
    "df = pd.read_feather(INPUT_FILE)"
   ]
  },
  {
   "cell_type": "markdown",
   "metadata": {},
   "source": [
    "### Libraries initialization\n",
    "\n",
    "Delete or comment-out unused libraries."
   ]
  },
  {
   "cell_type": "code",
   "execution_count": null,
   "metadata": {},
   "outputs": [],
   "source": [
    "# Pandas init\n",
    "# Set sizes of the tabular outputs\n",
    "pd.set_option('display.max_rows', 500)\n",
    "pd.set_option('display.max_columns', 500)\n",
    "pd.set_option('display.width', 1000)\n",
    "\n",
    "# Matplotlib init\n",
    "# Set sizes of the plots\n",
    "plt.rcParams['figure.figsize'] = [15, 7]\n",
    "\n",
    "# TODO: Consider: Extract into settings/constants at the beginning of the file (or separate file)."
   ]
  },
  {
   "cell_type": "code",
   "execution_count": null,
   "metadata": {},
   "outputs": [],
   "source": [
    "# Cufflinks + plotly init\n",
    "import cufflinks as cf\n",
    "import plotly.offline as py\n",
    "\n",
    "cf.go_offline()\n",
    "cf.set_config_file(\n",
    "    offline=True, \n",
    "    world_readable=False, \n",
    "    offline_show_link=False,\n",
    "    offline_connected=False,\n",
    "    # theme='pearl' # no effect?\n",
    "    dimensions = (1024, 768)\n",
    ")\n",
    "\n",
    "cf_layout = cf.Layout(\n",
    "    autosize=False,\n",
    "    width=1024,\n",
    "    height=600,\n",
    "    margin=dict(\n",
    "        l=175,\n",
    "        r=50,\n",
    "        b=100,\n",
    "        t=100,\n",
    "        pad=4\n",
    "    ),\n",
    "    #paper_bgcolor='#7f7f7f',\n",
    "    #plot_bgcolor='#c7c7c7'\n",
    ")"
   ]
  },
  {
   "cell_type": "code",
   "execution_count": null,
   "metadata": {},
   "outputs": [],
   "source": [
    "# Seaborn init\n",
    "\n",
    "import seaborn as sns\n",
    "sns.set() # switch to seaborn defaults"
   ]
  },
  {
   "cell_type": "code",
   "execution_count": null,
   "metadata": {},
   "outputs": [],
   "source": [
    "# TODO: consider Bokeh"
   ]
  },
  {
   "cell_type": "markdown",
   "metadata": {},
   "source": [
    "### Perform Data Analysis"
   ]
  },
  {
   "cell_type": "markdown",
   "metadata": {},
   "source": [
    "Define sample size, target variable and its possible values.<br/>\n",
    "Sample is used for approximate analysis in time-consuming operations."
   ]
  },
  {
   "cell_type": "code",
   "execution_count": null,
   "metadata": {},
   "outputs": [],
   "source": [
    "sample_size = 100000\n",
    "df_sample = df.sample(sample_size)\n",
    "\n",
    "target_variable = 'filedDispute'\n",
    "# Careful with following line if the target_variable is continuous.\n",
    "target_values = df_sample[target_variable].unique()"
   ]
  },
  {
   "cell_type": "markdown",
   "metadata": {},
   "source": [
    "#### Stats"
   ]
  },
  {
   "cell_type": "code",
   "execution_count": null,
   "metadata": {},
   "outputs": [],
   "source": [
    "# Data preview\n",
    "df.head(10)"
   ]
  },
  {
   "cell_type": "code",
   "execution_count": null,
   "metadata": {},
   "outputs": [],
   "source": [
    "# Data stats\n",
    "describe(df)"
   ]
  },
  {
   "cell_type": "code",
   "execution_count": null,
   "metadata": {},
   "outputs": [],
   "source": [
    "# Statistics of missing values\n",
    "\n",
    "null_counts = df.isnull().sum()\n",
    "null_counts[null_counts>0].sort_values(ascending=False)"
   ]
  },
  {
   "cell_type": "code",
   "execution_count": null,
   "metadata": {},
   "outputs": [],
   "source": [
    "df['xxx'].nunique()"
   ]
  },
  {
   "cell_type": "code",
   "execution_count": null,
   "metadata": {},
   "outputs": [],
   "source": [
    "df['xxx'].unique()"
   ]
  },
  {
   "cell_type": "code",
   "execution_count": null,
   "metadata": {},
   "outputs": [],
   "source": [
    "df['xxx'].value_counts()"
   ]
  },
  {
   "cell_type": "markdown",
   "metadata": {},
   "source": [
    "#### Vizualizations"
   ]
  },
  {
   "cell_type": "markdown",
   "metadata": {},
   "source": [
    "##### Univariate"
   ]
  },
  {
   "cell_type": "markdown",
   "metadata": {},
   "source": [
    "Histograms"
   ]
  },
  {
   "cell_type": "code",
   "execution_count": null,
   "metadata": {},
   "outputs": [],
   "source": [
    "%%time\n",
    "histograms(df)"
   ]
  },
  {
   "cell_type": "code",
   "execution_count": null,
   "metadata": {},
   "outputs": [],
   "source": [
    "df['xxx'].hist(bins=50)"
   ]
  },
  {
   "cell_type": "code",
   "execution_count": null,
   "metadata": {},
   "outputs": [],
   "source": [
    "# Histogram for a bool column\n",
    "df['bool_column'].astype('int64').hist(bins=2)"
   ]
  },
  {
   "cell_type": "code",
   "execution_count": null,
   "metadata": {},
   "outputs": [],
   "source": [
    "# Interactive histogram\n",
    "df_sample['xxx'].iplot(kind=\"histogram\", theme=\"white\", title=\"xxx\", xTitle='xxx', yTitle='Count')"
   ]
  },
  {
   "cell_type": "markdown",
   "metadata": {},
   "source": [
    "Density plots"
   ]
  },
  {
   "cell_type": "code",
   "execution_count": null,
   "metadata": {},
   "outputs": [],
   "source": [
    "# Simple density plot\n",
    "density_plot(df, 'xxx', bins=24)"
   ]
  },
  {
   "cell_type": "code",
   "execution_count": null,
   "metadata": {},
   "outputs": [],
   "source": [
    "# Density plot with highlighted classes\n",
    "density_plot(df, 'xxx', target_variable, bins=24)"
   ]
  },
  {
   "cell_type": "code",
   "execution_count": null,
   "metadata": {},
   "outputs": [],
   "source": [
    "# Same plot with XKCD styling\n",
    "with plt.xkcd():\n",
    "    density_plot(df, 'xxx', target_variable, bins=24)"
   ]
  },
  {
   "cell_type": "markdown",
   "metadata": {},
   "source": [
    "##### Correlation heatmap"
   ]
  },
  {
   "cell_type": "code",
   "execution_count": null,
   "metadata": {},
   "outputs": [],
   "source": [
    "corr = df.corr()"
   ]
  },
  {
   "cell_type": "code",
   "execution_count": null,
   "metadata": {},
   "outputs": [],
   "source": [
    "corr.iplot(kind='heatmap', colorscale=\"Spectral\", title=\"Feature Correlation Matrix\", layout=cf_layout)"
   ]
  },
  {
   "cell_type": "markdown",
   "metadata": {},
   "source": [
    "Alternative heatmap drawn by seaborn."
   ]
  },
  {
   "cell_type": "code",
   "execution_count": null,
   "metadata": {},
   "outputs": [],
   "source": [
    "%%time\n",
    "fig, (ax) = plt.subplots(1, 1, figsize=(25, 17))\n",
    "\n",
    "hm = sns.heatmap(\n",
    "    corr, \n",
    "    ax=ax,           # Axes in which to draw the plot, otherwise use the currently-active Axes.\n",
    "    cmap='coolwarm', # Color Map.\n",
    "    #square=True,    # If True, set the Axes aspect to “equal” so each cell will be square-shaped.\n",
    "    annot=True, \n",
    "    fmt='.2f',       # String formatting code to use when adding annotations.\n",
    "    #annot_kws={\"size\": 14},\n",
    "    linewidths=.05\n",
    ")\n",
    "\n",
    "fig.subplots_adjust(top=0.93)\n",
    "fig.suptitle('Correlation Heatmap', \n",
    "              fontsize=12, \n",
    "              fontweight='bold')"
   ]
  },
  {
   "cell_type": "code",
   "execution_count": null,
   "metadata": {},
   "outputs": [],
   "source": [
    "# Focus on the single line in the matrix, representing target_variable\n",
    "corr_target_df = corr[[target_variable]]\n",
    "\n",
    "corr_target_df.iplot(\n",
    "    kind='heatmap', colorscale='Spectral', title='Feature Correlation Matrix',\n",
    "    layout=cf.Layout(\n",
    "        autosize=False,\n",
    "        width=1024,\n",
    "        height=300,\n",
    "        margin=dict(\n",
    "            l=250,\n",
    "            r=50,\n",
    "            b=250,\n",
    "            t=10,\n",
    "            pad=4\n",
    "        ),\n",
    "    )\n",
    ")"
   ]
  },
  {
   "cell_type": "code",
   "execution_count": null,
   "metadata": {},
   "outputs": [],
   "source": [
    "# Display correaltions with target_variable numerically, sorted.\n",
    "\n",
    "corr_target_df.sort_values(target_variable)"
   ]
  },
  {
   "cell_type": "code",
   "execution_count": null,
   "metadata": {},
   "outputs": [],
   "source": [
    "# Inspect features which correlate with target_variable with strength above selected threshold\n",
    "corr_threshold = 0.02\n",
    "\n",
    "corr_target = corr[target_variable]\n",
    "corr_over_thr = corr_target[corr_target.abs()>corr_threshold]\n",
    "corr_over_thr"
   ]
  },
  {
   "cell_type": "markdown",
   "metadata": {},
   "source": [
    "##### Pairplot, catplot"
   ]
  },
  {
   "cell_type": "markdown",
   "metadata": {},
   "source": [
    "Use manually selected columns..."
   ]
  },
  {
   "cell_type": "code",
   "execution_count": null,
   "metadata": {},
   "outputs": [],
   "source": [
    "selected_columns = [\n",
    "    'xxx', \n",
    "    'xxx', \n",
    "    'xxx', \n",
    "    'xxx'\n",
    "]"
   ]
  },
  {
   "cell_type": "markdown",
   "metadata": {},
   "source": [
    "... or those with strong enough correlation:"
   ]
  },
  {
   "cell_type": "code",
   "execution_count": null,
   "metadata": {},
   "outputs": [],
   "source": [
    "selected_columns = list(corr_over_thr.index.values)"
   ]
  },
  {
   "cell_type": "code",
   "execution_count": null,
   "metadata": {},
   "outputs": [],
   "source": [
    "df_selected = df[selected_columns]"
   ]
  },
  {
   "cell_type": "code",
   "execution_count": null,
   "metadata": {},
   "outputs": [],
   "source": [
    "%%time\n",
    "sns.pairplot(\n",
    "    df_selected,\n",
    "    hue=target_variable, \n",
    "    height=2,\n",
    "    aspect=1.5,\n",
    "    plot_kws={'alpha': 0.4, 'edgecolor': 'k', 'linewidth': 0.5},\n",
    "    diag_kws={'shade': True},\n",
    "    diag_kind='kde'\n",
    ")"
   ]
  },
  {
   "cell_type": "markdown",
   "metadata": {},
   "source": [
    "Zoom at the diagonale:"
   ]
  },
  {
   "cell_type": "code",
   "execution_count": null,
   "metadata": {},
   "outputs": [],
   "source": [
    "for var in selected_columns:\n",
    "    if var != target_variable:\n",
    "        plt.figure(num=1, figsize=(18, 3))\n",
    "        density_plot(df_selected, var, target_variable, bins=50)\n",
    "    plt.show()"
   ]
  },
  {
   "cell_type": "markdown",
   "metadata": {},
   "source": [
    "##### Scatterplot with highlighted classes"
   ]
  },
  {
   "cell_type": "code",
   "execution_count": null,
   "metadata": {},
   "outputs": [],
   "source": [
    "var1 = 'var1'\n",
    "var2 = 'var2'"
   ]
  },
  {
   "cell_type": "code",
   "execution_count": null,
   "metadata": {},
   "outputs": [],
   "source": [
    "scatter_colored(\n",
    "    df_sample, \n",
    "    var1, var2, \n",
    "    target_variable\n",
    ")"
   ]
  },
  {
   "cell_type": "code",
   "execution_count": null,
   "metadata": {},
   "outputs": [],
   "source": [
    "sns.relplot(\n",
    "    x=var1, y=var2, \n",
    "    hue=target_variable, \n",
    "    data=df_sample, \n",
    "    alpha=0.3, \n",
    "    size=target_variable, sizes={False:15, True:100}, height=10, aspect=1\n",
    "    #col='group_by'\n",
    ")"
   ]
  },
  {
   "cell_type": "markdown",
   "metadata": {},
   "source": [
    "##### Boxplot\n",
    "\n",
    "Display variation of selected variable `var` in groups defined by selected class `class1`, sorted by mean value."
   ]
  },
  {
   "cell_type": "code",
   "execution_count": null,
   "metadata": {},
   "outputs": [],
   "source": [
    "var1 = 'class_var1'\n",
    "var2 = 'var2'"
   ]
  },
  {
   "cell_type": "code",
   "execution_count": null,
   "metadata": {},
   "outputs": [],
   "source": [
    "grouped = df_sample.groupby(var1)\n",
    "var2_averages = pd.DataFrame({col:vals[var2] for col,vals in grouped}).mean().sort_values(ascending=True)"
   ]
  },
  {
   "cell_type": "code",
   "execution_count": null,
   "metadata": {},
   "outputs": [],
   "source": [
    "plt.figure(figsize=(20, 10))\n",
    "sns.boxplot(    \n",
    "    data=dfs_selected, \n",
    "    x=var1, \n",
    "    y=var2, \n",
    "    order=var2_averages.index\n",
    ");"
   ]
  },
  {
   "cell_type": "markdown",
   "metadata": {},
   "source": [
    "Same information displayed by violin plot. Provides more detailed insight into distribution of the second variable."
   ]
  },
  {
   "cell_type": "code",
   "execution_count": null,
   "metadata": {},
   "outputs": [],
   "source": [
    "plt.figure(figsize=(20, 10))\n",
    "sns.violinplot(    \n",
    "    data=df_sample, \n",
    "    x=var1, \n",
    "    y=var2, \n",
    "    order=var2_averages.index\n",
    ");"
   ]
  },
  {
   "cell_type": "markdown",
   "metadata": {},
   "source": [
    "Boxplot with boxes split by target variable. "
   ]
  },
  {
   "cell_type": "code",
   "execution_count": null,
   "metadata": {},
   "outputs": [],
   "source": [
    "plt.figure(figsize=(20, 10))\n",
    "sns.boxplot(    \n",
    "    data=df_sample, \n",
    "    x=var1, \n",
    "    y=var2, \n",
    "    order=var2_averages.index,\n",
    "    hue=target_variable\n",
    ");"
   ]
  },
  {
   "cell_type": "markdown",
   "metadata": {},
   "source": [
    "Violin plot with boxes split by target variable. Gives separate distributions for different values of target variable. Presumably works only for two-value target variable."
   ]
  },
  {
   "cell_type": "code",
   "execution_count": null,
   "metadata": {},
   "outputs": [],
   "source": [
    "plt.figure(figsize=(20, 10))\n",
    "sns.violinplot(    \n",
    "    data=df_sample.query('initialAmount < 50'), \n",
    "    x=var1, \n",
    "    y=var2, \n",
    "    order=var2_averages.index,\n",
    "    hue=target_variable,\n",
    "    split=True\n",
    ");"
   ]
  },
  {
   "cell_type": "markdown",
   "metadata": {},
   "source": [
    "### Save Excel file into reports directory\n",
    "\n",
    "Save an Excel file with intermediate results into the report directory"
   ]
  },
  {
   "cell_type": "code",
   "execution_count": null,
   "metadata": {},
   "outputs": [],
   "source": [
    "writer = pd.ExcelWriter(REPORT_FILE, engine='xlsxwriter')"
   ]
  },
  {
   "cell_type": "code",
   "execution_count": null,
   "metadata": {},
   "outputs": [],
   "source": [
    "df.to_excel(writer, sheet_name='Report')"
   ]
  },
  {
   "cell_type": "code",
   "execution_count": null,
   "metadata": {},
   "outputs": [],
   "source": [
    "writer.save()"
   ]
  },
  {
   "cell_type": "markdown",
   "metadata": {},
   "source": [
    "## THE END\n",
    "\n",
    "---\n",
    "<br/><br/><br/><br/><br/><br/><br/><br/><br/><br/><br/><br/><br/><br/><br/>"
   ]
  },
  {
   "cell_type": "code",
   "execution_count": null,
   "metadata": {},
   "outputs": [],
   "source": [
    "raise(Exception(\"THE END\"))"
   ]
  },
  {
   "cell_type": "markdown",
   "metadata": {},
   "source": [
    "Place unused vizualizations and experiments below this line.\n",
    "\n",
    "---"
   ]
  },
  {
   "cell_type": "code",
   "execution_count": null,
   "metadata": {},
   "outputs": [],
   "source": []
  }
 ],
 "metadata": {
  "kernelspec": {
   "display_name": "Python 3",
   "language": "python",
   "name": "python3"
  },
  "language_info": {
   "codemirror_mode": {
    "name": "ipython",
    "version": 3
   },
   "file_extension": ".py",
   "mimetype": "text/x-python",
   "name": "python",
   "nbconvert_exporter": "python",
   "pygments_lexer": "ipython3",
   "version": "3.7.3"
  }
 },
 "nbformat": 4,
 "nbformat_minor": 4
}
