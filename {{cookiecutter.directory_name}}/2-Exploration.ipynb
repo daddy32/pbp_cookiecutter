{
 "cells": [
  {
   "cell_type": "markdown",
   "metadata": {},
   "source": [
    "# {{cookiecutter.project_name}}\n",
    "\n",
    "{{cookiecutter.description}}\n",
    "\n",
    "This notebook contains basic statistical analysis and visualization of the data.\n",
    "\n",
    "## Data Sources\n",
    "- summary : Processed file from notebook 1-Data_Prep\n",
    "\n",
    "## Changes\n",
    "- {% now 'utc', '%Y-%m-%d' %} : Started project"
   ]
  },
  {
   "cell_type": "code",
   "execution_count": null,
   "metadata": {},
   "outputs": [],
   "source": [
    "from imports import *"
   ]
  },
  {
   "cell_type": "code",
   "execution_count": null,
   "metadata": {},
   "outputs": [],
   "source": [
    "%matplotlib inline"
   ]
  },
  {
   "cell_type": "markdown",
   "metadata": {},
   "source": [
    "### File Locations"
   ]
  },
  {
   "cell_type": "code",
   "execution_count": null,
   "metadata": {},
   "outputs": [],
   "source": [
    "# File Locations\n",
    "today = datetime.today()\n",
    "\n",
    "INPUT_DIR = Path.cwd() / 'data'/ '01-input'\n",
    "PROCESSED_DIR = Path.cwd() / 'data'/ '02-processed'\n",
    "REPORT_DIR = Path.cwd() / 'reports'\n",
    "\n",
    "INPUT_FILE = PROCESSED_DIR / f'cleaned_{today:%Y-%m-%d}.feather'\n",
    "REPORT_FILE = REPORT_DIR / f'Excel_Report_{today:%Y-%m-%d}.xlsx'"
   ]
  },
  {
   "cell_type": "code",
   "execution_count": null,
   "metadata": {},
   "outputs": [],
   "source": [
    "df = pd.read_feather(INPUT_FILE)"
   ]
  },
  {
   "cell_type": "markdown",
   "metadata": {},
   "source": [
    "### Libraries initialization\n",
    "\n",
    "Delete or comment-out unused libraries."
   ]
  },
  {
   "cell_type": "code",
   "execution_count": null,
   "metadata": {},
   "outputs": [],
   "source": [
    "# Pandas init\n",
    "# Set sizes of the tabular outputs\n",
    "pd.set_option('display.max_rows', 500)\n",
    "pd.set_option('display.max_columns', 500)\n",
    "pd.set_option('display.width', 1000)\n",
    "\n",
    "# Matplotlib init\n",
    "# Set sizes of the plots\n",
    "plt.rcParams['figure.figsize'] = [15, 7]\n",
    "\n",
    "# TODO: Consider: Extract into settings/constants at the beginning of the file (or separate file)."
   ]
  },
  {
   "cell_type": "code",
   "execution_count": null,
   "metadata": {},
   "outputs": [],
   "source": [
    "# Cufflinks + plotly init\n",
    "import cufflinks as cf\n",
    "import plotly.offline as py\n",
    "\n",
    "cf.go_offline()\n",
    "cf.set_config_file(\n",
    "    offline=True, \n",
    "    world_readable=False, \n",
    "    offline_show_link=False,\n",
    "    offline_connected=False,\n",
    "    # theme='pearl' # no effect?\n",
    "    dimensions = (1024, 768)\n",
    ")\n",
    "\n",
    "cf_layout = cf.Layout(\n",
    "    autosize=False,\n",
    "    width=1024,\n",
    "    height=600,\n",
    "    margin=dict(\n",
    "        l=175,\n",
    "        r=50,\n",
    "        b=100,\n",
    "        t=100,\n",
    "        pad=4\n",
    "    ),\n",
    "    #paper_bgcolor='#7f7f7f',\n",
    "    #plot_bgcolor='#c7c7c7'\n",
    ")"
   ]
  },
  {
   "cell_type": "code",
   "execution_count": null,
   "metadata": {},
   "outputs": [],
   "source": [
    "# Seaborn init\n",
    "\n",
    "import seaborn as sns"
   ]
  },
  {
   "cell_type": "code",
   "execution_count": null,
   "metadata": {},
   "outputs": [],
   "source": [
    "# TODO: consider Bokeh"
   ]
  },
  {
   "cell_type": "markdown",
   "metadata": {},
   "source": [
    "### Perform Data Analysis"
   ]
  },
  {
   "cell_type": "markdown",
   "metadata": {},
   "source": [
    "#### Stats"
   ]
  },
  {
   "cell_type": "code",
   "execution_count": null,
   "metadata": {},
   "outputs": [],
   "source": [
    "# Data preview\n",
    "df.head(10)"
   ]
  },
  {
   "cell_type": "code",
   "execution_count": null,
   "metadata": {},
   "outputs": [],
   "source": [
    "# Data stats\n",
    "describe(df)"
   ]
  },
  {
   "cell_type": "code",
   "execution_count": null,
   "metadata": {},
   "outputs": [],
   "source": [
    "df['...'].nunique()"
   ]
  },
  {
   "cell_type": "code",
   "execution_count": null,
   "metadata": {},
   "outputs": [],
   "source": [
    "df['...'].unique()"
   ]
  },
  {
   "cell_type": "markdown",
   "metadata": {},
   "source": [
    "#### Vizualizations"
   ]
  },
  {
   "cell_type": "markdown",
   "metadata": {},
   "source": [
    "##### Histograms"
   ]
  },
  {
   "cell_type": "code",
   "execution_count": null,
   "metadata": {},
   "outputs": [],
   "source": [
    "df['...'].hist(bins=50)"
   ]
  },
  {
   "cell_type": "code",
   "execution_count": null,
   "metadata": {},
   "outputs": [],
   "source": [
    "# Interactive histogram\n",
    "df['...'].iplot(kind=\"histogram\", theme=\"white\", title=\"...\", xTitle='...', yTitle='Count')"
   ]
  },
  {
   "cell_type": "markdown",
   "metadata": {},
   "source": [
    "##### Correlation heatmap"
   ]
  },
  {
   "cell_type": "code",
   "execution_count": null,
   "metadata": {},
   "outputs": [],
   "source": [
    "corr = df.corr()"
   ]
  },
  {
   "cell_type": "code",
   "execution_count": null,
   "metadata": {},
   "outputs": [],
   "source": [
    "corr.iplot(kind='heatmap', colorscale=\"Spectral\", title=\"Feature Correlation Matrix\", layout=cf_layout)"
   ]
  },
  {
   "cell_type": "markdown",
   "metadata": {},
   "source": [
    "##### Pairplot, catplot"
   ]
  },
  {
   "cell_type": "code",
   "execution_count": null,
   "metadata": {},
   "outputs": [],
   "source": [
    "df_selected = df[[\n",
    "    # selected columns\n",
    "    '...', \n",
    "    '...', \n",
    "    '...', \n",
    "    '...'\n",
    "]]"
   ]
  },
  {
   "cell_type": "code",
   "execution_count": null,
   "metadata": {},
   "outputs": [],
   "source": [
    "sns.pairplot(\n",
    "    df_selected,\n",
    "    hue='...', # class (/target) variable\n",
    "    height=2,\n",
    "    aspect=1.5\n",
    ")"
   ]
  },
  {
   "cell_type": "markdown",
   "metadata": {},
   "source": [
    "##### Scatterplot with highlighted classes"
   ]
  },
  {
   "cell_type": "code",
   "execution_count": null,
   "metadata": {},
   "outputs": [],
   "source": [
    "sns.catplot(\n",
    "    data=df_selected, \n",
    "    x=\"var1\", \n",
    "    y=\"var2\", \n",
    "    hue='class1',\n",
    "    height=10\n",
    ");"
   ]
  },
  {
   "cell_type": "markdown",
   "metadata": {},
   "source": [
    "##### Boxplot\n",
    "\n",
    "Display variation of selected variable `var` in groups defined by selected class `class1`, sorted."
   ]
  },
  {
   "cell_type": "code",
   "execution_count": null,
   "metadata": {},
   "outputs": [],
   "source": [
    "grouped = dfs_selected.groupby(\"class1\")\n",
    "enfpoint_speed_average = pd.DataFrame({col:vals['var1'] for col,vals in grouped}).mean().sort_values(ascending=True)"
   ]
  },
  {
   "cell_type": "code",
   "execution_count": null,
   "metadata": {},
   "outputs": [],
   "source": [
    "plt.figure(figsize=(20, 10))\n",
    "sns.boxplot(    \n",
    "    data=dfs_selected, \n",
    "    x=\"class1\", \n",
    "    y=\"var1\", \n",
    "    order=enfpoint_speed_average.index\n",
    ");"
   ]
  },
  {
   "cell_type": "markdown",
   "metadata": {},
   "source": [
    "### Save Excel file into reports directory\n",
    "\n",
    "Save an Excel file with intermediate results into the report directory"
   ]
  },
  {
   "cell_type": "code",
   "execution_count": null,
   "metadata": {},
   "outputs": [],
   "source": [
    "writer = pd.ExcelWriter(REPORT_FILE, engine='xlsxwriter')"
   ]
  },
  {
   "cell_type": "code",
   "execution_count": null,
   "metadata": {},
   "outputs": [],
   "source": [
    "df.to_excel(writer, sheet_name='Report')"
   ]
  },
  {
   "cell_type": "code",
   "execution_count": null,
   "metadata": {},
   "outputs": [],
   "source": [
    "writer.save()"
   ]
  }
 ],
 "metadata": {
  "kernelspec": {
   "display_name": "Python 3",
   "language": "python",
   "name": "python3"
  },
  "language_info": {
   "codemirror_mode": {
    "name": "ipython",
    "version": 3
   },
   "file_extension": ".py",
   "mimetype": "text/x-python",
   "name": "python",
   "nbconvert_exporter": "python",
   "pygments_lexer": "ipython3",
   "version": "3.7.3"
  }
 },
 "nbformat": 4,
 "nbformat_minor": 4
}
